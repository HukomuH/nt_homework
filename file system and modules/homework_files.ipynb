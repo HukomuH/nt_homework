{
 "cells": [
  {
   "cell_type": "code",
   "execution_count": 3,
   "metadata": {},
   "outputs": [
    {
     "name": "stdout",
     "output_type": "stream",
     "text": [
      "('user_id', 'category')\n",
      "('1840e0b9d4', 'Продукты')\n",
      "('4e4f90fcfb', 'Электроника')\n",
      "('afea8d72fc', 'Электроника')\n",
      "('373a6055fe', 'Бытовая техника')\n",
      "('9b2ab046f3', 'Электроника')\n"
     ]
    }
   ],
   "source": [
    "import json\n",
    "purchases = {}\n",
    "with open('purchase_log.txt', encoding='utf-8') as f:\n",
    "    for line in f:\n",
    "        dict_ = json.loads(line)\n",
    "        key = dict_['user_id']\n",
    "        val = dict_['category']\n",
    "        purchases[key] = val\n",
    "\n",
    "# a = 0\n",
    "# for i in purchases.items():\n",
    "#     print(i)\n",
    "#     a += 1\n",
    "#     if a > 5:\n",
    "#         break\n",
    "        \n"
   ]
  },
  {
   "cell_type": "code",
   "execution_count": 1,
   "metadata": {},
   "outputs": [
    {
     "name": "stdout",
     "output_type": "stream",
     "text": [
      "['user_id,source\\n', '6450655ae8,other\\n', 'b4ea53e670,other\\n', '0e37347152,other\\n', '96064ae9e0,other\\n']\n",
      "['{\"user_id\": \"user_id\", \"category\": \"category\"}\\n', '{\"user_id\": \"1840e0b9d4\", \"category\": \"Продукты\"}\\n', '{\"user_id\": \"4e4f90fcfb\", \"category\": \"Электроника\"}\\n', '{\"user_id\": \"afea8d72fc\", \"category\": \"Электроника\"}\\n', '{\"user_id\": \"373a6055fe\", \"category\": \"Бытовая техника\"}\\n']\n"
     ]
    }
   ],
   "source": [
    "#Для каждого user_id в файле visit_log.csv определите третий столбец с категорией покупки (если покупка была, \n",
    "#сам файл visit_log.csv изменять не надо). Запишите в файл funnel.csv визиты из файла visit_log.csv,\n",
    "#в которых были покупки с указанием категории.\n",
    "#Учтите условия на данные:\n",
    "#содержимое purchase_log.txt помещается в оперативную память компьютера\n",
    "#содержимое visit_log.csv - нет; используйте только построчную обработку этого файла\n",
    "#в 3й файл добавить стоблец с категрией для чуваков из визитов, которые сделали покупку, puscase в память, visit log построчно\n",
    "\n",
    "with open('visit_log.csv', 'r', encoding='utf-8') as f:\n",
    "    print([next(f) for x in range(5)])\n",
    "    with open('purchase_log.txt', 'r', encoding='utf-8') as p:\n",
    "            print([next(p) for x in range(5)])\n",
    "            for line in f:\n",
    "                \n",
    "    \n",
    "\n"
   ]
  },
  {
   "cell_type": "code",
   "execution_count": null,
   "metadata": {},
   "outputs": [],
   "source": []
  }
 ],
 "metadata": {
  "kernelspec": {
   "display_name": "Python 3",
   "language": "python",
   "name": "python3"
  },
  "language_info": {
   "codemirror_mode": {
    "name": "ipython",
    "version": 3
   },
   "file_extension": ".py",
   "mimetype": "text/x-python",
   "name": "python",
   "nbconvert_exporter": "python",
   "pygments_lexer": "ipython3",
   "version": "3.7.6"
  }
 },
 "nbformat": 4,
 "nbformat_minor": 4
}
