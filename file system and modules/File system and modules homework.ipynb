{
 "cells": [
  {
   "cell_type": "markdown",
   "metadata": {},
   "source": [
    "### Переведите содержимое файла purchase_log.txt в словарь purchases вида: {‘1840e0b9d4’: ‘Продукты’, …}"
   ]
  },
  {
   "cell_type": "code",
   "execution_count": null,
   "metadata": {},
   "outputs": [],
   "source": [
    "import json\n",
    "purchases = {}\n",
    "with open('purchase_log.txt', encoding='utf-8') as f:\n",
    "    for line in f:\n",
    "        dict_ = json.loads(line)\n",
    "        key = dict_['user_id']\n",
    "        val = dict_['category']\n",
    "        purchases[key] = val\n",
    "\n",
    "# a = 0\n",
    "# for i in purchases.items():\n",
    "#     print(i)\n",
    "#     a += 1\n",
    "#     if a > 5:\n",
    "#         break"
   ]
  }
 ],
 "metadata": {
  "kernelspec": {
   "display_name": "Python 3",
   "language": "python",
   "name": "python3"
  },
  "language_info": {
   "codemirror_mode": {
    "name": "ipython",
    "version": 3
   },
   "file_extension": ".py",
   "mimetype": "text/x-python",
   "name": "python",
   "nbconvert_exporter": "python",
   "pygments_lexer": "ipython3",
   "version": "3.7.6"
  }
 },
 "nbformat": 4,
 "nbformat_minor": 4
}
