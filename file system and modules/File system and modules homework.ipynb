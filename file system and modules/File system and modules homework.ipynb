{
 "cells": [
  {
   "cell_type": "markdown",
   "metadata": {},
   "source": [
    "#### Переведите содержимое файла purchase_log.txt в словарь purchases вида: {‘1840e0b9d4’: ‘Продукты’, …}"
   ]
  },
  {
   "cell_type": "code",
   "execution_count": null,
   "metadata": {},
   "outputs": [],
   "source": [
    "import json\n",
    "purchases = {}\n",
    "with open('purchase_log.txt', encoding='utf-8') as f:\n",
    "    for line in f:\n",
    "        dict_ = json.loads(line)\n",
    "        key = dict_['user_id']\n",
    "        val = dict_['category']\n",
    "        purchases[key] = val\n",
    "\n",
    "# a = 0\n",
    "# for i in purchases.items():\n",
    "#     print(i)\n",
    "#     a += 1\n",
    "#     if a > 5:\n",
    "#         break"
   ]
  },
  {
   "cell_type": "markdown",
   "metadata": {},
   "source": [
    "#### Для каждого user_id в файле visit_log.csv определите третий столбец с категорией покупки (если покупка была, \n",
    "#### сам файл visit_log.csv изменять не надо). Запишите в файл funnel.csv визиты из файла visit_log.csv, \n",
    "#### в которых были покупки с указанием категории.\n",
    "#### Учтите условия на данные:\n",
    "#### содержимое purchase_log.txt помещается в оперативную память компьютера\n",
    "#### содержимое visit_log.csv - нет; используйте только построчную обработку этого файла"
   ]
  },
  {
   "cell_type": "code",
   "execution_count": 4,
   "metadata": {},
   "outputs": [
    {
     "name": "stdout",
     "output_type": "stream",
     "text": [
      "user_id,source,category\n",
      "\n",
      "1840e0b9d4,other,Продукты\n",
      "\n",
      "4e4f90fcfb,context,Электроника\n",
      "\n",
      "afea8d72fc,other,Электроника\n",
      "\n",
      "ok\n"
     ]
    }
   ],
   "source": [
    "import json\n",
    "\n",
    "\n",
    "with open ('visit_log.csv', 'r', encoding='utf-8') as vl:\n",
    "    with open ('purchase_log.txt', 'r', encoding='utf-8') as pl:\n",
    "        with open ('funnel.csv', 'w') as f:\n",
    "            pl_cont = pl.readlines()\n",
    "#            a = 0\n",
    "            for v_line in vl:\n",
    "                u_id, source = v_line.strip().split(',')\n",
    "                for line in pl_cont:\n",
    "                    dict_ = json.loads(line)\n",
    "                    if u_id == dict_['user_id']:\n",
    "                        f_line = u_id + ',' + source + ',' + dict_['category'] + '\\n'\n",
    "                        #print(f_line)\n",
    "                        f.write(f_line)\n",
    "#                 a += 1\n",
    "#                 if a > 100:\n",
    "#                     break\n",
    "# print('ok')\n",
    "                    "
   ]
  }
 ],
 "metadata": {
  "kernelspec": {
   "display_name": "Python 3",
   "language": "python",
   "name": "python3"
  },
  "language_info": {
   "codemirror_mode": {
    "name": "ipython",
    "version": 3
   },
   "file_extension": ".py",
   "mimetype": "text/x-python",
   "name": "python",
   "nbconvert_exporter": "python",
   "pygments_lexer": "ipython3",
   "version": "3.7.6"
  }
 },
 "nbformat": 4,
 "nbformat_minor": 4
}
